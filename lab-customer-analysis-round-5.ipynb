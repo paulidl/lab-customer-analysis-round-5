{
 "cells": [
  {
   "cell_type": "code",
   "execution_count": null,
   "id": "07af7b87",
   "metadata": {},
   "outputs": [],
   "source": [
    "# Re-reading the data to test the function\n",
    "df_new = pd.read_csv('files_for_lab/csv_files/marketing_customer_analysis.csv')\n",
    "\n",
    "# will keep the most general items\n",
    "def big_clean(df):\n",
    "\n",
    "    # Standardize column names\n",
    "    df.columns = df.columns.str.lower()\n",
    "\n",
    "    # Clean NaN values & extra index column. Will replace all NaN by the mode in this case\n",
    "    for column in df.columns:\n",
    "        if (df[column].isna().sum() / df.shape[0]) > 0.5:\n",
    "            df.drop(column, axis = 1, inplace = True)\n",
    "        elif (df[column].isna().sum() > 0):\n",
    "            if df[column].dtypes == object:\n",
    "                df[column] = df[column].fillna(df[column].mode()[0])\n",
    "            else:\n",
    "                df[column] = df[column].fillna(np.mean(df[column]))\n",
    "    \n",
    "    return df.head(), df.isna().sum().sum()\n",
    "\n",
    "# Checking if the formula works\n",
    "big_clean(df_new)\n"
   ]
  }
 ],
 "metadata": {
  "kernelspec": {
   "display_name": "Python 3 (ipykernel)",
   "language": "python",
   "name": "python3"
  },
  "language_info": {
   "codemirror_mode": {
    "name": "ipython",
    "version": 3
   },
   "file_extension": ".py",
   "mimetype": "text/x-python",
   "name": "python",
   "nbconvert_exporter": "python",
   "pygments_lexer": "ipython3",
   "version": "3.9.12"
  }
 },
 "nbformat": 4,
 "nbformat_minor": 5
}
